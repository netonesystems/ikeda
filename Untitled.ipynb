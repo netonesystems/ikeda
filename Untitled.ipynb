{
 "cells": [
  {
   "cell_type": "code",
   "execution_count": 1,
   "metadata": {},
   "outputs": [
    {
     "ename": "error",
     "evalue": "video system not initialized",
     "output_type": "error",
     "traceback": [
      "\u001b[0;31m\u001b[0m",
      "\u001b[0;31merror\u001b[0mTraceback (most recent call last)",
      "\u001b[0;32m<ipython-input-1-82984929c79c>\u001b[0m in \u001b[0;36m<module>\u001b[0;34m()\u001b[0m\n\u001b[1;32m      6\u001b[0m \u001b[0;34m\u001b[0m\u001b[0m\n\u001b[1;32m      7\u001b[0m \u001b[0mpygame\u001b[0m\u001b[0;34m.\u001b[0m\u001b[0minit\u001b[0m\u001b[0;34m(\u001b[0m\u001b[0;34m)\u001b[0m\u001b[0;34m\u001b[0m\u001b[0m\n\u001b[0;32m----> 8\u001b[0;31m \u001b[0mpygame\u001b[0m\u001b[0;34m.\u001b[0m\u001b[0mkey\u001b[0m\u001b[0;34m.\u001b[0m\u001b[0mset_repeat\u001b[0m\u001b[0;34m(\u001b[0m\u001b[0;36m5\u001b[0m\u001b[0;34m,\u001b[0m \u001b[0;36m5\u001b[0m\u001b[0;34m)\u001b[0m\u001b[0;34m\u001b[0m\u001b[0m\n\u001b[0m\u001b[1;32m      9\u001b[0m \u001b[0mSURFACE\u001b[0m \u001b[0;34m=\u001b[0m \u001b[0mpygame\u001b[0m\u001b[0;34m.\u001b[0m\u001b[0mdisplay\u001b[0m\u001b[0;34m.\u001b[0m\u001b[0mset_mode\u001b[0m\u001b[0;34m(\u001b[0m\u001b[0;34m(\u001b[0m\u001b[0;36m800\u001b[0m\u001b[0;34m,\u001b[0m \u001b[0;36m600\u001b[0m\u001b[0;34m)\u001b[0m\u001b[0;34m)\u001b[0m\u001b[0;34m\u001b[0m\u001b[0m\n\u001b[1;32m     10\u001b[0m \u001b[0mFPSCLOCK\u001b[0m \u001b[0;34m=\u001b[0m \u001b[0mpygame\u001b[0m\u001b[0;34m.\u001b[0m\u001b[0mtime\u001b[0m\u001b[0;34m.\u001b[0m\u001b[0mClock\u001b[0m\u001b[0;34m(\u001b[0m\u001b[0;34m)\u001b[0m\u001b[0;34m\u001b[0m\u001b[0m\n",
      "\u001b[0;31merror\u001b[0m: video system not initialized"
     ]
    }
   ],
   "source": [
    "\"\"\" cave - Copyright 2016 Kenichiro Tanaka \"\"\"\n",
    "import sys\n",
    "from random import randint\n",
    "import pygame\n",
    "from pygame.locals import QUIT, Rect, KEYDOWN, K_SPACE\n",
    "\n",
    "pygame.init()\n",
    "pygame.key.set_repeat(5, 5)\n",
    "SURFACE = pygame.display.set_mode((800, 600))\n",
    "FPSCLOCK = pygame.time.Clock()\n",
    "\n",
    "def main():\n",
    "    \"\"\" main routine \"\"\"\n",
    "    walls = 80\n",
    "    ship_y = 250\n",
    "    velocity = 0\n",
    "    score = 0\n",
    "    slope = randint(1, 6)\n",
    "    sysfont = pygame.font.SysFont(None, 36)\n",
    "    ship_image = pygame.image.load(\"ship.png\")\n",
    "    bang_image = pygame.image.load(\"bang.png\")\n",
    "    holes = []\n",
    "    for xpos in range(walls):\n",
    "        holes.append(Rect(xpos*10, 100, 10, 400))\n",
    "    game_over = False\n",
    "    \n",
    "    while True:\n",
    "        is_space_down = False\n",
    "        for event in pygame.event.get():\n",
    "            if event.type == QUIT:\n",
    "                pygame.quit()\n",
    "                sys.exit()\n",
    "            elif event.type == KEYDOWN:\n",
    "                if event.key == K_SPACE:\n",
    "                    is_space_down = True\n",
    "            \n",
    "            # move player\n",
    "            if not game_over:\n",
    "                score += 10\n",
    "                velocity += -3 if is_space_down else 3\n",
    "                ship_y += velocity\n",
    "\n",
    "                #scroll cave\n",
    "                edge = holes[-1].copy()\n",
    "                test = edge.move(0, slope)\n",
    "                if test.top <= 0 or test.bottom >= 600:\n",
    "                    slope = randint(1, 6)*(-1 if slope > 0 else 1)\n",
    "                    edge.inflate_ip(0, -20)\n",
    "                    edge.move_ip(10, slope)\n",
    "                    holes.append(edge)\n",
    "                    del holes[0]\n",
    "                    holes = [x.move(-10, 0) for x in holes]\n",
    "\n",
    "                    #collision\n",
    "                    if  holes[0].top > ship_y or holes[0].bottom< ship_y + 80:\n",
    "                        game_over = True\n",
    "\n",
    "\n",
    "                    #description\n",
    "                    SURFACE.fill((0, 255, 0))\n",
    "                    for  hole in holes:\n",
    "                        pygame.draw.rect(SURFACE, (0, 0, 0,), hole)\n",
    "                    SURFACE.blit(ship_image, (0, ship_y))\n",
    "                    score_image = sysfront.render(\"score is {}\".format(score), True, (0, 0, 225))\n",
    "                    SURFACE.blit(score_image, (600, 20))\n",
    "                    \n",
    "                    if game_over:\n",
    "                        SURFACE.blit(bang_image, (0, ship_y-40))\n",
    "                        \n",
    "                    pygame.display.update()\n",
    "                    FPSCLOCK.tick(15)\n",
    "                \n",
    "if __name__ == '__main__':\n",
    "    main()\n"
   ]
  },
  {
   "cell_type": "code",
   "execution_count": null,
   "metadata": {},
   "outputs": [],
   "source": []
  }
 ],
 "metadata": {
  "kernelspec": {
   "display_name": "Python 2",
   "language": "python",
   "name": "python2"
  },
  "language_info": {
   "codemirror_mode": {
    "name": "ipython",
    "version": 2
   },
   "file_extension": ".py",
   "mimetype": "text/x-python",
   "name": "python",
   "nbconvert_exporter": "python",
   "pygments_lexer": "ipython2",
   "version": "2.7.5"
  }
 },
 "nbformat": 4,
 "nbformat_minor": 2
}
